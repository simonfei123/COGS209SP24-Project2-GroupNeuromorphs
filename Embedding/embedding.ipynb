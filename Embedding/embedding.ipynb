{
 "cells": [
  {
   "cell_type": "code",
   "execution_count": 2,
   "metadata": {},
   "outputs": [
    {
     "name": "stderr",
     "output_type": "stream",
     "text": [
      "c:\\Users\\qsyan\\.conda\\envs\\dl\\Lib\\site-packages\\tqdm\\auto.py:21: TqdmWarning: IProgress not found. Please update jupyter and ipywidgets. See https://ipywidgets.readthedocs.io/en/stable/user_install.html\n",
      "  from .autonotebook import tqdm as notebook_tqdm\n",
      "Special tokens have been added in the vocabulary, make sure the associated word embeddings are fine-tuned or trained.\n",
      "Loading checkpoint shards: 100%|██████████| 3/3 [00:02<00:00,  1.37it/s]\n"
     ]
    }
   ],
   "source": [
    "# load tokenizer and model\n",
    "from transformers import AutoTokenizer, AutoModelForCausalLM, AutoModel\n",
    "\n",
    "tokenizer = AutoTokenizer.from_pretrained(\"EleutherAI/polyglot-ko-1.3b\")\n",
    "#model = AutoModelForCausalLM.from_pretrained(\"EleutherAI/polyglot-ko-1.3b\")\n",
    "model = AutoModel.from_pretrained('EleutherAI/polyglot-ko-1.3b')"
   ]
  },
  {
   "cell_type": "code",
   "execution_count": 3,
   "metadata": {},
   "outputs": [
    {
     "name": "stdout",
     "output_type": "stream",
     "text": [
      "['거뜬하다', '가련하다', '불쌍하다', '가엾다', '딱하다', '안쓰럽다', '측은하다', '동정하다', '비련', '비참하다', '애잔하다', '애처롭다', '가소롭다', '가증스럽다', '가책', '갈등하다', '감개', '감개무량하다', '감격하다', '감동하다', '찡하다', '뭉클하다', '감명', '감흥', '감회', '감미롭다', '감복하다', '감탄하다', '경탄하다', '개탄하다', '비분강개하다', '거부감', '거북하다', '염려하다', '우려하다', '걱정하다', '근심걱정', '근심하다', '겁나다', '두렵다', '무섭다', '공포', '성내다', '격분하다', '격노하다', '진노하다', '역정', '노하다', '노엽다', '노기', '노발대발', '부아', '분개하다', '분노하다', '골나다', '격동되다', '울화', '분하다', '분통', '통분', '원통하다', '원한', '화나다', '동요하다', '격정', '열정', '경외하다', '꺼림직하다', '끔찍하다', '희', '환희', '황홀하다', '기쁘다', '기껍다', '쾌감', '낙', '희희낙락하다', '희열', '즐겁다', '즐기다', '흥겹다', '흥나다', '행복하다', '들뜨다', '신나다', '신명나다', '신바람나다', '재미있다', '낙담하다', '낙망하다', '낙심하다', '맥빠지다', '실망하다', '환멸', '남부끄럽다', '남부럽다', '낭패스럽다', '낯간지럽다', '민망하다', '낯뜨겁다', '노심초사하다', '속타다', '초조하다', '조마조마하다', '아슬아슬하다', '조바심', '노파심', '고깝다', '고무되다', '고뇌하다', '고민하다', '번뇌하다', '번민하다', '공허하다', '괘씸하다', '괴롭다', '교감하다', '귀찮다', '긍지', '기겁하다', '질겁하다', '기고만장하다', '의기양양하다', '우쭐하다', '놀라다', '놀랍다', '기막히다', '황당하다', '어이없다', '어처구니없다', '기절초풍하다', '위압감', '위축감', '기죽다', '의기소침하다', '긴장하다', '꺼리다', '떠름하다', '떨떠름하다', '떫다', '떳떳하다', '뜨끔하다', '뜨악하다', '마땅찮다', '막막하다', '만족하다', '흐뭇하다', '흡족하다', '충족감', '맘놓다', '안심', '망설이다', '망연자실하다', '망연하다', '매료되다', '매혹', '호감', '혼비백산하다', '눈물겹다', '후회하다', '회한', '회개', '회오', '뉘우치다', '한탄하다', '유감', '달가워하다', '답답하다', '담담하다', '덤덤하다', '무덤덤하다', '무감동하다', '지겹다', '질리다', '싫증나다', '신물나다', '치떨리다', '지긋지긋하다', '진저리나다', '권태롭다', '식상하다', '진부하다', '지루하다', '따분하다', '지리하다', '심심하다', '무료하다', '당혹하다', '곤혹스럽다', '당황하다', '도취하다', '동감하다', '동병상련', '부럽다', '불만', '불만족하다', '불안하다', '불편하다', '불행하다', '비장하다', '숙연하다', '뼈아프다', '뿌듯하다', '보람차다', '사랑스럽다', '연정', '순정', '사모하다', '연모하다', '흠모하다', '사무치다', '살맛나다', '자괴', '부끄럽다', '창피하다', '머쓱하다', '무색하다', '무안하다', '멋쩍다', '겸연쩍다', '쑥스럽다', '굴욕', '무력감', '미안하다', '죄송스럽다', '송구하다', '반감', '적의', '밉다', '혐오하다', '자기혐오', '증오하다', '역겹다', '싫다', '질색하다', '경멸하다', '모멸', '박진감', '반갑다', '반하다', '반항심', '배신감', '토라지다', '뾰로통하다', '샐쭉하다', '시무룩하다', '풀죽다', '침울하다', '침통하다', '켕기다', '코웃음', '태평스럽다', '서먹하다', '섭섭하다', '야속하다', '서운하다', '속상하다', '선뜩하다', '선호하다', '설레다', '흥분', '격앙하다', '섬뜩하다', '소름끼치다', '성취감', '수심', '수치', '스산하다', '애달프다', '애닯다', '처연하다', '구슬프다', '슬프다', '비애', '서러워하다', '설워하다', '서럽다', '비탄하다', '비통하다', '서글프다', '애수', '외롭다', '적적하다', '쓸쓸하다', '고독하다', '샘내다', '질투하다', '시름겹다', '시큰둥하다', '심드렁하다', '상실감', '상심하다', '상쾌하다', '상큼하다', '실의', '심란하다', '싱숭생숭하다', '심려하다', '심통', '씁쓸하다', '불쾌하다', '언짢다', '아니꼽다', '아련하다', '아리다', '안락하다', '통탄하다', '패배감', '편안하다', '편하다', '평안하다', '평온하다', '평화롭다', '안타깝다', '아쉽다', '아연하다', '안달복달하다', '안달하다', '안도하다', '안정되다', '암담하다', '암울하다', '우수', '우울하다', '음울하다', '애', '애끓다', '애타다', '애도하다', '애통하다', '애련', '애련하다', '애석하다', '원망하다', '애정', '애지중지하다', '애착', '애틋하다', '애환', '애증', '얄밉다', '억울하다', '연연하다', '열광하다', '열등감', '열애', '영광스럽다', '영예롭다', '정감', '정겹다', '정욕', '정한', '좌절하다', '위화감', '유쾌하다', '의분', '의혹', '의심', '의아하다', '이뻐하다', '자랑스럽다', '자부하다', '자신만만하다', '자족하다', '자책하다', '전전긍긍', '절망하다', '참담하다', '절박감', '통한', '여한', '한', '한맺히다', '한스럽다', '허망하다', '허무하다', '허탈하다', '허허롭다', '죄스럽다', '죄의식', '죄책감', '주눅들다', '약오르다', '신경질', '짜증내다', '짝사랑하다', '착잡하다', '처량하다', '처절하다', '처참하다', '황공하다', '황송하다', '후련하다', '시원섭섭하다', '속시원하다', '흥미롭다', '흥미진진하다', '흥취', '희비', '고맙다', '동경하다', '그립다', '향수']\n"
     ]
    }
   ],
   "source": [
    "import pandas as pd\n",
    "import numpy as np\n",
    "import torch\n",
    "\n",
    "# load data\n",
    "kr_words = pd.read_csv('../Data/KR_map.csv')\n",
    "kr_data = kr_words['KR_word'].to_list()\n",
    "print(kr_data)"
   ]
  },
  {
   "cell_type": "code",
   "execution_count": 4,
   "metadata": {},
   "outputs": [],
   "source": [
    "kr_embedding = []\n",
    "for item in kr_data:\n",
    "    # Tokenize your input\n",
    "    inputs = tokenizer(item, return_tensors=\"pt\", return_token_type_ids=False)\n",
    "\n",
    "    # Get the word vectors\n",
    "    outputs = model(**inputs)\n",
    "    sentence_embedding = torch.mean(outputs.last_hidden_state[0], dim=0)\n",
    "    kr_embedding.append(sentence_embedding.tolist())"
   ]
  },
  {
   "cell_type": "code",
   "execution_count": 77,
   "metadata": {},
   "outputs": [
    {
     "data": {
      "text/plain": [
       "(403, 2048)"
      ]
     },
     "execution_count": 77,
     "metadata": {},
     "output_type": "execute_result"
    }
   ],
   "source": [
    "np.array(kr_embedding).shape"
   ]
  },
  {
   "cell_type": "code",
   "execution_count": 5,
   "metadata": {},
   "outputs": [
    {
     "data": {
      "text/plain": [
       "tensor([[ 0.1462,  0.4875, -0.3673,  ...,  0.1574,  0.5717,  0.2985],\n",
       "        [-0.0077,  0.4102, -0.2072,  ...,  0.1228,  0.9728,  0.6356],\n",
       "        [-0.1605,  0.2330, -0.3280,  ...,  0.0724,  0.8356,  0.5602],\n",
       "        ...,\n",
       "        [ 0.3649,  0.3020, -0.0784,  ..., -0.0738,  0.5000, -0.0738],\n",
       "        [ 0.2486,  0.4352,  0.2502,  ...,  0.2516,  0.1906, -0.1024],\n",
       "        [-0.2998,  0.8611, -0.3266,  ...,  0.1705,  0.3395, -0.1747]])"
      ]
     },
     "execution_count": 5,
     "metadata": {},
     "output_type": "execute_result"
    }
   ],
   "source": [
    "torch.tensor(kr_embedding)"
   ]
  },
  {
   "cell_type": "code",
   "execution_count": 6,
   "metadata": {},
   "outputs": [],
   "source": [
    "kr_words['KR_embedding'] = kr_embedding"
   ]
  },
  {
   "cell_type": "code",
   "execution_count": 8,
   "metadata": {},
   "outputs": [],
   "source": [
    "kr_words.to_csv('../Data/KR_map.csv', index=False)"
   ]
  },
  {
   "cell_type": "code",
   "execution_count": 9,
   "metadata": {},
   "outputs": [
    {
     "name": "stdout",
     "output_type": "stream",
     "text": [
      "['refreshed', 'piteous', 'pitiful', 'sympathize', 'tragicality', 'suffering', 'dismal', 'miserable', 'pathetic', 'ridiculous', 'absurd', 'laughable', 'detestable', 'contemptable', 'despicable', 'scruple', 'emotional', 'moved', 'touched', 'affected', 'be choked up', 'touching', 'moving', 'inspiration', 'titilation', 'sweet', 'mellow', 'admire', 'overawe', 'marvel', 'wonder', 'deplore', 'lament', 'reluctance', 'uncomfortable', 'awkward', 'worry', 'be apprehensive', 'be concerned', 'apprehension', 'apprehend', 'be afraid', 'be scared', 'fear', 'scary', 'frightening', 'terror', 'horror', 'get angry', 'be furious', 'be enraged', 'be outraged', 'be infuriated', 'be raged', 'rage', 'angry', 'mad', 'anger', 'enragement', 'fury', 'be indignant', 'resent', 'get enraged', 'fired up', 'be vexed', 'resentful', 'vexation', 'chagrin', 'indignation', 'embittered', 'grudge', 'resentment', 'be unsettled', 'be agitated', 'be disturbed', 'be shaken', 'passion', 'enthusiasm', 'be awed by', 'uneasy', 'reluctant', 'horrible', 'gruesome', 'joy', 'bliss', 'exaltation', 'exhilaration', 'ecstatic', 'raptured', 'enraptured', 'joyful', 'glad', 'pleasure', 'delight', 'relish', 'be delighted', 'rejoice', 'be exhilarated', 'be elated', 'enjoyment', 'delightful', 'pleasant', 'enjoyable', 'delighted', 'enjoy', 'merry', 'cheerful', 'be merried', 'be excited', 'happy', 'be in glee', 'fun', 'be discouraged', 'be hopeless', 'be disappointed', 'be disheartened', 'be dispirited', 'be downhearted', 'be despondent', 'disillusionment', 'disenchantment', 'shameful', 'ashamed', 'envious', \"Feeling embarrassed as something goes awry or falls short of one's expectations\", 'cringey', 'embarrassing', 'constant, heavy worry (till death)', 'mind burning (be fretted, worried, troubled)', 'fretted', 'nervous', 'unsettled', 'be nervous', 'be uneasy', 'be anxious', 'be worried', 'anxious', 'fretful', 'excessive solicitude for another´s welfare', 'encouraged', 'anguish', 'be in agony', 'agonize', 'torment', 'suffer', 'empty', 'painful', 'agonizing', 'distressed', 'commune', 'tiresome', 'pride', 'flabberghasted', 'appalled', 'be puffed up', 'be proud of', 'smug', 'raged', 'jubilant', 'triumphant', 'exultant', 'elated', 'complacent', 'be proud', 'be surprised', 'surprising', 'wonderful', 'fantastic', 'far-fetched', 'dumbfounded', 'shocked', 'overwhelmedness', 'be withered', 'be daunted', 'dispirited', 'discouraged', 'downhearted', 'be strained', 'avoid', 'shun', 'be reluctant', 'mind', 'bewildered', 'astringent', 'confident', 'dignified', 'pricked', 'unsatisfying', 'dissatisfatory', 'content', 'satisfaction', 'be relieved', 'be at ease', 'relief', 'hesitate', 'be devastated', 'vacant', 'absentminded', 'blank', 'be mesmerized', 'be captivated', 'fascination', 'attraction', 'liking', 'good feeling', 'be frightened', 'be terrified', 'weepy', 'painstaking', 'regret', 'remorse', 'repentance', 'contrition', 'penitence', 'repent', 'pity', 'be happy', 'be pleased', 'welcome', 'calm', 'impassive', 'apathetic', 'bored of', 'tired of', 'fed up', 'weary of', 'be sickened', 'be nauseated', 'weary', 'be fed up', 'be tired of', 'be weary of', 'be disgusted with', 'be sick of', 'shuddering', 'wearisome', 'trite', 'hackneyed', 'cliché-ridden', 'dull', 'tedious', 'boring', 'banal', 'be bored', 'dreary', 'be baffled', 'be confounded', 'be bewildered', 'be puzzled', 'be perplexed', 'baffling', 'confounding', 'bewildering', 'puzzling', 'perplexing', 'be fascinated', 'be enraptured', 'be carried away', 'envy', 'discontent', 'discontented', 'unhappy', 'solemn', 'somber', 'worthwhile', 'rewarding', 'lovely', 'love', 'shame', 'shy', 'bashful', 'embarrassed', 'be embarrassed', 'feel awkward', 'abashed', 'sheepish', 'humiliation', 'insult', 'helplessness', 'sorry', 'antipathy', 'animosity', 'hostility', 'antagonism', 'hate', 'loathe', 'abhor', 'safe-hatred', 'detest', 'disgusting', 'repulsive', 'dislike', 'despise', 'be aversive', 'contemn', 'disdain', 'contempt', 'liveliness', 'vitality', 'be enamored', 'fall for', 'rebelliousness', 'sense of betrayal', 'turn sulky', 'sulky', 'sullen', 'glum', 'get limp', 'gloomy', 'mournful', 'grave', 'snort', 'carefree', 'easy-going', 'sad', 'disappointing', 'upsetting', 'prefer', 'flutter', 'thrilling', 'exciting', 'excitement', 'agitated', 'terrifying', 'horrifying', 'creepy', 'be creepy', 'sense of achievement', 'anxiety', 'disgrace', 'lonesome', 'heartbreaking', 'hearbreaking', 'sorrowful', 'sorrow', 'grief', 'mourn', 'bewail', 'sadness', 'lonely', 'solitary', 'be jealous', 'lukewarm', 'tepid', 'blasé', 'feeling of loss', 'be heartbroken', 'breezy', 'refreshing', 'dejection', 'troubled', 'tumultuous', 'bitter', 'unpleasant', 'sickening', 'vague', 'dim', 'faint', 'aching', 'comfortable', 'cozy', 'sense of defeat', 'relaxed', 'comfy', 'peaceful', 'serene', 'tranquil', 'bummed', 'disappointed', 'frustration', 'dumbstruck', 'be fussy', 'feet at ease', 'be stable', 'be steady', 'hopeless', 'despairing', 'grim', 'melancholy', 'gloom', 'depressed', 'grieve', 'grief-stricken', 'bewailed', 'sad love', 'affection', 'treasure', 'cherish', 'attachment', 'be fanatic', 'be frantic', 'go wild', 'sense of inferiority', 'passionate love', 'glorious', 'honorable', 'lust', 'sexual desire', 'be frustrated', 'fall apart', 'disharmony', 'doubt', 'suspicion', 'strange', 'odd', 'adore', 'proud', 'be conceited', 'be confident', 'self-confident', 'be content', 'be satisfied', 'blame onself', 'despair', 'tragic', 'desperation', 'forlorn', 'void', 'guilty', 'guilt', 'sense of guilt', 'be intimidated', 'feel unworthy', 'annoyance', 'irritation', 'be irritated', 'be annoyed', 'be in unrequited love', 'conflicted', 'desperate', 'appalling', 'terrible', 'awful', 'awe-struck', 'fearful', 'relieved', 'feeling mixed', 'bittersweet', 'interesting', 'absorbing', 'gripping', 'engrossing', 'interest', 'thankful', 'long for', 'yearn for', 'missing', 'longing', 'wistful', 'nostalgia']\n"
     ]
    }
   ],
   "source": [
    "en_words = pd.read_csv('../Data/EN_map.csv')\n",
    "en_data = en_words['EN_word'].to_list()\n",
    "print(en_data)"
   ]
  },
  {
   "cell_type": "code",
   "execution_count": 10,
   "metadata": {},
   "outputs": [],
   "source": [
    "en_embedding = []\n",
    "for item in en_data:\n",
    "    # Tokenize your input\n",
    "    inputs = tokenizer(item, return_tensors=\"pt\", return_token_type_ids=False)\n",
    "\n",
    "    # Get the word vectors\n",
    "    outputs = model(**inputs)\n",
    "    sentence_embedding = torch.mean(outputs.last_hidden_state[0], dim=0)\n",
    "    en_embedding.append(sentence_embedding.tolist())"
   ]
  },
  {
   "cell_type": "code",
   "execution_count": 11,
   "metadata": {},
   "outputs": [],
   "source": [
    "en_words['EN_embedding'] = en_embedding\n",
    "en_words.to_csv('../Data/EN_map.csv', index=False)"
   ]
  },
  {
   "cell_type": "code",
   "execution_count": null,
   "metadata": {},
   "outputs": [],
   "source": []
  }
 ],
 "metadata": {
  "kernelspec": {
   "display_name": "cogs209",
   "language": "python",
   "name": "python3"
  },
  "language_info": {
   "codemirror_mode": {
    "name": "ipython",
    "version": 3
   },
   "file_extension": ".py",
   "mimetype": "text/x-python",
   "name": "python",
   "nbconvert_exporter": "python",
   "pygments_lexer": "ipython3",
   "version": "3.12.2"
  }
 },
 "nbformat": 4,
 "nbformat_minor": 2
}
