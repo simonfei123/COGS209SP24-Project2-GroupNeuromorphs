{
 "cells": [
  {
   "cell_type": "code",
   "execution_count": 23,
   "metadata": {},
   "outputs": [],
   "source": [
    "import pandas as pd\n",
    "import numpy as np\n",
    "\n",
    "# Load the Excel file\n",
    "excel_file_path = '..\\Data\\Emotion_Words_COGS209_final.xlsx'\n",
    "df = pd.read_excel(excel_file_path)"
   ]
  },
  {
   "cell_type": "code",
   "execution_count": 24,
   "metadata": {},
   "outputs": [
    {
     "data": {
      "text/plain": [
       "Index(['Unnamed: 0', 'Korean_Emotion_Words', 'Korean_Source1', 'Emotionality',\n",
       "       'POS', 'Translation_Equivalence', 'English1', 'English2', 'English3',\n",
       "       'English4', 'English5'],\n",
       "      dtype='object')"
      ]
     },
     "execution_count": 24,
     "metadata": {},
     "output_type": "execute_result"
    }
   ],
   "source": [
    "df.columns"
   ]
  },
  {
   "cell_type": "code",
   "execution_count": 49,
   "metadata": {},
   "outputs": [
    {
     "name": "stdout",
     "output_type": "stream",
     "text": [
      "     KR_id KR_word\n",
      "0        0    거뜬하다\n",
      "1        1    가련하다\n",
      "2        2    불쌍하다\n",
      "3        3     가엾다\n",
      "4        4     딱하다\n",
      "..     ...     ...\n",
      "398    398      희비\n",
      "399    399     고맙다\n",
      "400    400    동경하다\n",
      "401    401     그립다\n",
      "402    402      향수\n",
      "\n",
      "[403 rows x 2 columns]\n"
     ]
    }
   ],
   "source": [
    "# Extract specific columns\n",
    "columns_to_extract = ['Korean_Emotion_Words']  # Replace with your column names\n",
    "df_extracted = df[columns_to_extract].values.flatten()\n",
    "kr_words = pd.unique(df_extracted)\n",
    "df_kr = pd.DataFrame({'KR_id': range(len(kr_words)), 'KR_word': kr_words})\n",
    "\n",
    "print(df_kr)"
   ]
  },
  {
   "cell_type": "code",
   "execution_count": 52,
   "metadata": {},
   "outputs": [
    {
     "name": "stdout",
     "output_type": "stream",
     "text": [
      "     EN_id      EN_word\n",
      "0        0    refreshed\n",
      "1        1      piteous\n",
      "2        2      pitiful\n",
      "3        3   sympathize\n",
      "4        4  tragicality\n",
      "..     ...          ...\n",
      "445    445    yearn for\n",
      "446    446      missing\n",
      "447    447      longing\n",
      "448    448      wistful\n",
      "449    449    nostalgia\n",
      "\n",
      "[450 rows x 2 columns]\n"
     ]
    }
   ],
   "source": [
    "en_columns = ['English1', 'English2', 'English3', 'English4', 'English5']\n",
    "combined_list = df[en_columns].values.flatten()\n",
    "# Find unique items\n",
    "unique_items = pd.unique(combined_list)\n",
    "unique_items = unique_items[~pd.isna(unique_items)]\n",
    "\n",
    "# Create a new DataFrame with unique items and their indices\n",
    "df_en = pd.DataFrame({'EN_id': range(len(unique_items)), 'EN_word': unique_items})\n",
    "\n",
    "print(df_en)\n"
   ]
  },
  {
   "cell_type": "code",
   "execution_count": 59,
   "metadata": {},
   "outputs": [
    {
     "name": "stdout",
     "output_type": "stream",
     "text": [
      "     Korean_Emotion_Words  English1  English2  English3  English4  English5\n",
      "0                       0       0.0       NaN       NaN       NaN       NaN\n",
      "1                       1       1.0       NaN       NaN       NaN       NaN\n",
      "2                       2       1.0       2.0       NaN       NaN       NaN\n",
      "3                       3       1.0       2.0       NaN       NaN       NaN\n",
      "4                       4       1.0       2.0       NaN       NaN       NaN\n",
      "..                    ...       ...       ...       ...       ...       ...\n",
      "403                   399     443.0       NaN       NaN       NaN       NaN\n",
      "404                   350     396.0     397.0       NaN       NaN       NaN\n",
      "405                   400     444.0     445.0       NaN       NaN       NaN\n",
      "406                   401     446.0     447.0     448.0       NaN       NaN\n",
      "407                   402     449.0       NaN       NaN       NaN       NaN\n",
      "\n",
      "[408 rows x 6 columns]\n"
     ]
    },
    {
     "name": "stderr",
     "output_type": "stream",
     "text": [
      "C:\\Users\\qsyan\\AppData\\Local\\Temp\\ipykernel_17148\\2427055965.py:8: SettingWithCopyWarning: \n",
      "A value is trying to be set on a copy of a slice from a DataFrame.\n",
      "Try using .loc[row_indexer,col_indexer] = value instead\n",
      "\n",
      "See the caveats in the documentation: https://pandas.pydata.org/pandas-docs/stable/user_guide/indexing.html#returning-a-view-versus-a-copy\n",
      "  df_mapping['Korean_Emotion_Words'] = df_mapping['Korean_Emotion_Words'].map(korean_dict)\n",
      "C:\\Users\\qsyan\\AppData\\Local\\Temp\\ipykernel_17148\\2427055965.py:10: SettingWithCopyWarning: \n",
      "A value is trying to be set on a copy of a slice from a DataFrame.\n",
      "Try using .loc[row_indexer,col_indexer] = value instead\n",
      "\n",
      "See the caveats in the documentation: https://pandas.pydata.org/pandas-docs/stable/user_guide/indexing.html#returning-a-view-versus-a-copy\n",
      "  df_mapping[col] = df_mapping[col].map(english_dict)\n",
      "C:\\Users\\qsyan\\AppData\\Local\\Temp\\ipykernel_17148\\2427055965.py:10: SettingWithCopyWarning: \n",
      "A value is trying to be set on a copy of a slice from a DataFrame.\n",
      "Try using .loc[row_indexer,col_indexer] = value instead\n",
      "\n",
      "See the caveats in the documentation: https://pandas.pydata.org/pandas-docs/stable/user_guide/indexing.html#returning-a-view-versus-a-copy\n",
      "  df_mapping[col] = df_mapping[col].map(english_dict)\n",
      "C:\\Users\\qsyan\\AppData\\Local\\Temp\\ipykernel_17148\\2427055965.py:10: SettingWithCopyWarning: \n",
      "A value is trying to be set on a copy of a slice from a DataFrame.\n",
      "Try using .loc[row_indexer,col_indexer] = value instead\n",
      "\n",
      "See the caveats in the documentation: https://pandas.pydata.org/pandas-docs/stable/user_guide/indexing.html#returning-a-view-versus-a-copy\n",
      "  df_mapping[col] = df_mapping[col].map(english_dict)\n",
      "C:\\Users\\qsyan\\AppData\\Local\\Temp\\ipykernel_17148\\2427055965.py:10: SettingWithCopyWarning: \n",
      "A value is trying to be set on a copy of a slice from a DataFrame.\n",
      "Try using .loc[row_indexer,col_indexer] = value instead\n",
      "\n",
      "See the caveats in the documentation: https://pandas.pydata.org/pandas-docs/stable/user_guide/indexing.html#returning-a-view-versus-a-copy\n",
      "  df_mapping[col] = df_mapping[col].map(english_dict)\n",
      "C:\\Users\\qsyan\\AppData\\Local\\Temp\\ipykernel_17148\\2427055965.py:10: SettingWithCopyWarning: \n",
      "A value is trying to be set on a copy of a slice from a DataFrame.\n",
      "Try using .loc[row_indexer,col_indexer] = value instead\n",
      "\n",
      "See the caveats in the documentation: https://pandas.pydata.org/pandas-docs/stable/user_guide/indexing.html#returning-a-view-versus-a-copy\n",
      "  df_mapping[col] = df_mapping[col].map(english_dict)\n"
     ]
    }
   ],
   "source": [
    "df_mapping = df[['Korean_Emotion_Words', 'English1', 'English2', 'English3', 'English4', 'English5']]\n",
    "\n",
    "# Create dictionaries for mapping\n",
    "korean_dict = df_kr.set_index('KR_word')['KR_id'].to_dict()\n",
    "english_dict = df_en.set_index('EN_word')['EN_id'].to_dict()\n",
    "\n",
    "# Replace words with indices in the mapping DataFrame\n",
    "df_mapping['Korean_Emotion_Words'] = df_mapping['Korean_Emotion_Words'].map(korean_dict)\n",
    "for col in en_columns:\n",
    "    df_mapping[col] = df_mapping[col].map(english_dict)\n",
    "\n",
    "print(df_mapping)"
   ]
  },
  {
   "cell_type": "code",
   "execution_count": 61,
   "metadata": {},
   "outputs": [],
   "source": [
    "df_kr.to_csv('../Data/KR_map.csv', index=False)\n",
    "df_en.to_csv('../Data/EN_map.csv', index=False)\n",
    "df_mapping.to_csv('../Data/mapping.csv', index=False)"
   ]
  },
  {
   "cell_type": "code",
   "execution_count": null,
   "metadata": {},
   "outputs": [],
   "source": []
  }
 ],
 "metadata": {
  "kernelspec": {
   "display_name": "cogs209",
   "language": "python",
   "name": "python3"
  },
  "language_info": {
   "codemirror_mode": {
    "name": "ipython",
    "version": 3
   },
   "file_extension": ".py",
   "mimetype": "text/x-python",
   "name": "python",
   "nbconvert_exporter": "python",
   "pygments_lexer": "ipython3",
   "version": "3.10.12"
  }
 },
 "nbformat": 4,
 "nbformat_minor": 2
}
